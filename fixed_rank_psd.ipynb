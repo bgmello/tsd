{
 "cells": [
  {
   "cell_type": "code",
   "execution_count": 1,
   "id": "c0b8fa04",
   "metadata": {},
   "outputs": [],
   "source": [
    "import numpy as np\n",
    "from numpy.typing import NDArray"
   ]
  },
  {
   "cell_type": "code",
   "execution_count": 74,
   "id": "66bedcf3",
   "metadata": {},
   "outputs": [],
   "source": [
    "class Algorithm:\n",
    "    def __init__(self, r):\n",
    "        self.r = r\n",
    "    \n",
    "    def initialize(self):\n",
    "        \n",
    "        self.U = np.concatenate([self.e(i, self.n).reshape(-1, 1) for i in range(self.r)], axis=-1).T # shape(n, r)\n",
    "\n",
    "        self.P = np.eye(self.r) # shape (r,r)\n",
    "        self.Q = np.eye(self.r) # shape (r, r)\n",
    "        self.lambdas = np.ones(self.r) # shape (r)\n",
    "        self.W = X.T @ np.concatenate([self.e(i, self.n).reshape(-1, 1) for i in range(self.r)], axis=-1) # shape (N, r)\n",
    "        self.t = np.array([self.X[:, p].T @ self.U.T @ self.P @ self.U @ self.X[:, p] for p in range(self.N)])\n",
    "        assert (np.all([np.isclose(self.t[p], np.sum(self.X[:, p][:r]**2)) for p in range(self.N)]))\n",
    "    \n",
    "    def check_shapes(self):\n",
    "        assert self.X.shape == (n, N)\n",
    "        assert self.y.shape == (N,)\n",
    "        assert self.U.shape == (r, n)\n",
    "        assert self.P.shape == (r, r)\n",
    "        assert self.Q.shape == (r, r)\n",
    "        assert self.lambdas.shape == (r,)\n",
    "        assert self.W.shape == (N, r)\n",
    "        assert self.t.shape == (N,)\n",
    "    \n",
    "    def fit(self, X, y):\n",
    "        assert X.shape[1] == y.shape[0]\n",
    "        assert r <= n\n",
    "        \n",
    "        self.n = X.shape[0]\n",
    "        self.N = X.shape[1]\n",
    "        self.X = X\n",
    "        self.y = y\n",
    "        \n",
    "        self.initialize()\n",
    "        self.run()\n",
    "        \n",
    "    def v_hat(self, k):\n",
    "        return (2*self.lambdas[k]/self.N)*(self.X @ ((self.y-self.t)*self.W[:, k]) - self.U.T @ self.Q @ (self.W.T @ ((self.y-self.t)*self.W[:, k])))\n",
    "   \n",
    "    def v(self, k):\n",
    "        return self.v_hat(k)/np.linalg.norm(self.v_hat(k), ord=2)\n",
    "    \n",
    "    def U_plus(self, k, gamma):\n",
    "        print(self.U.shape)\n",
    "        print(self.Q[:, k].shape)\n",
    "        return self.U + (((np.cos(gamma)-1)*self.U.T @ self.Q[:, k] + np.sin(gamma)*self.v(k)).reshape(-1, 1) @ self.Q[:, k].T.reshape(1, -1)).T\n",
    "    \n",
    "    def h(self, k, gamma):\n",
    "        return (1/(2*self.N))*np.linalg.norm(self.y-self.t-2*self.lambdas[k]*self.s(k, gamma) - self.lambdas[k]*(self.s(k, gamma)*self.s(k, gamma)), ord=2)\n",
    "    \n",
    "    def find_optimal_gamma(self, k):\n",
    "        num_points = 1000\n",
    "        x_values = np.linspace(0, 2*np.pi, num_points)\n",
    "        y_values = [self.h(k, x) for x in x_values]\n",
    "\n",
    "        # Find the x value that minimizes the objective function\n",
    "        optimal_x = x_values[np.argmin(y_values)]\n",
    "        optimal_y = np.min(y_values)\n",
    "\n",
    "        return optimal_x\n",
    "    \n",
    "    def z(self, k):\n",
    "        return X.T @ self.v(k)\n",
    "    \n",
    "    @staticmethod\n",
    "    def e(k, r):\n",
    "        if k > r:\n",
    "            raise ValueError(\"k should be less than or equal to r\")\n",
    "\n",
    "        # Create a zero vector of size r\n",
    "        e_kr = np.zeros(r)\n",
    "\n",
    "        # Set the k-th entry to 1\n",
    "        e_kr[k] = 1\n",
    "\n",
    "        return e_kr\n",
    "    \n",
    "    def s(self, k, gamma):\n",
    "        return (np.cos(gamma)-1)*self.W[:, k] + np.sin(gamma)*self.z(k)\n",
    "    \n",
    "    def run(self, num_iterations=100):\n",
    "        \n",
    "        for t in range(num_iterations):\n",
    "            for l in range(self.n):\n",
    "                for k in range(self.r):\n",
    "                    \n",
    "                    optimal_gamma = self.find_optimal_gamma(k)\n",
    "\n",
    "                    self.U = self.U_plus(k, optimal_gamma)\n",
    "                    self.P = self.P\n",
    "                    \n",
    "\n",
    "                    s = self.s(k, optimal_gamma)\n",
    "                    \n",
    "                    self.W[:, k] = self.X.T @ (s + self.U.T @ self.Q[:, k]) # X.T shape = N, n\n",
    "                    self.t = self.t + 2*self.lambdas[k]*s + self.lambdas[k]*(s*s)\n",
    "        #             UQ[:, k] += s"
   ]
  },
  {
   "cell_type": "code",
   "execution_count": 75,
   "id": "e989cf95",
   "metadata": {},
   "outputs": [],
   "source": [
    "# def h_k(gamma, N, y, t, lambdas, W, ):\n",
    "# #     return (1/(2*N))*np.linalg.norm(y, ord=2)"
   ]
  },
  {
   "cell_type": "code",
   "execution_count": 76,
   "id": "14a0571d",
   "metadata": {},
   "outputs": [],
   "source": [
    "n, N, r = 7, 10, 4"
   ]
  },
  {
   "cell_type": "code",
   "execution_count": 77,
   "id": "61d1ea47",
   "metadata": {},
   "outputs": [],
   "source": [
    "# Inputs\n",
    "X = np.random.random((n, N)) # shape (n, N)\n",
    "y = np.zeros(N) # shape (N)"
   ]
  },
  {
   "cell_type": "code",
   "execution_count": 78,
   "id": "4f9db1c1",
   "metadata": {},
   "outputs": [
    {
     "name": "stdout",
     "output_type": "stream",
     "text": [
      "(4, 7)\n",
      "(4,)\n"
     ]
    },
    {
     "ename": "ValueError",
     "evalue": "operands could not be broadcast together with shapes (10,) (7,) ",
     "output_type": "error",
     "traceback": [
      "\u001b[0;31m---------------------------------------------------------------------------\u001b[0m",
      "\u001b[0;31mValueError\u001b[0m                                Traceback (most recent call last)",
      "Cell \u001b[0;32mIn[78], line 2\u001b[0m\n\u001b[1;32m      1\u001b[0m algo \u001b[38;5;241m=\u001b[39m Algorithm(r)\n\u001b[0;32m----> 2\u001b[0m \u001b[43malgo\u001b[49m\u001b[38;5;241;43m.\u001b[39;49m\u001b[43mfit\u001b[49m\u001b[43m(\u001b[49m\u001b[43mX\u001b[49m\u001b[43m,\u001b[49m\u001b[43m \u001b[49m\u001b[43my\u001b[49m\u001b[43m)\u001b[49m\n",
      "Cell \u001b[0;32mIn[74], line 36\u001b[0m, in \u001b[0;36mAlgorithm.fit\u001b[0;34m(self, X, y)\u001b[0m\n\u001b[1;32m     33\u001b[0m \u001b[38;5;28mself\u001b[39m\u001b[38;5;241m.\u001b[39my \u001b[38;5;241m=\u001b[39m y\n\u001b[1;32m     35\u001b[0m \u001b[38;5;28mself\u001b[39m\u001b[38;5;241m.\u001b[39minitialize()\n\u001b[0;32m---> 36\u001b[0m \u001b[38;5;28;43mself\u001b[39;49m\u001b[38;5;241;43m.\u001b[39;49m\u001b[43mrun\u001b[49m\u001b[43m(\u001b[49m\u001b[43m)\u001b[49m\n",
      "Cell \u001b[0;32mIn[74], line 96\u001b[0m, in \u001b[0;36mAlgorithm.run\u001b[0;34m(self, num_iterations)\u001b[0m\n\u001b[1;32m     91\u001b[0m \u001b[38;5;28mself\u001b[39m\u001b[38;5;241m.\u001b[39mP \u001b[38;5;241m=\u001b[39m \u001b[38;5;28mself\u001b[39m\u001b[38;5;241m.\u001b[39mP\n\u001b[1;32m     94\u001b[0m s \u001b[38;5;241m=\u001b[39m \u001b[38;5;28mself\u001b[39m\u001b[38;5;241m.\u001b[39ms(k, optimal_gamma)\n\u001b[0;32m---> 96\u001b[0m \u001b[38;5;28mself\u001b[39m\u001b[38;5;241m.\u001b[39mW[:, k] \u001b[38;5;241m=\u001b[39m \u001b[38;5;28mself\u001b[39m\u001b[38;5;241m.\u001b[39mX\u001b[38;5;241m.\u001b[39mT \u001b[38;5;241m@\u001b[39m (\u001b[43ms\u001b[49m\u001b[43m \u001b[49m\u001b[38;5;241;43m+\u001b[39;49m\u001b[43m \u001b[49m\u001b[38;5;28;43mself\u001b[39;49m\u001b[38;5;241;43m.\u001b[39;49m\u001b[43mU\u001b[49m\u001b[38;5;241;43m.\u001b[39;49m\u001b[43mT\u001b[49m\u001b[43m \u001b[49m\u001b[38;5;241;43m@\u001b[39;49m\u001b[43m \u001b[49m\u001b[38;5;28;43mself\u001b[39;49m\u001b[38;5;241;43m.\u001b[39;49m\u001b[43mQ\u001b[49m\u001b[43m[\u001b[49m\u001b[43m:\u001b[49m\u001b[43m,\u001b[49m\u001b[43m \u001b[49m\u001b[43mk\u001b[49m\u001b[43m]\u001b[49m) \u001b[38;5;66;03m# X.T shape = N, n\u001b[39;00m\n\u001b[1;32m     97\u001b[0m \u001b[38;5;28mself\u001b[39m\u001b[38;5;241m.\u001b[39mt \u001b[38;5;241m=\u001b[39m \u001b[38;5;28mself\u001b[39m\u001b[38;5;241m.\u001b[39mt \u001b[38;5;241m+\u001b[39m \u001b[38;5;241m2\u001b[39m\u001b[38;5;241m*\u001b[39m\u001b[38;5;28mself\u001b[39m\u001b[38;5;241m.\u001b[39mlambdas[k]\u001b[38;5;241m*\u001b[39ms \u001b[38;5;241m+\u001b[39m \u001b[38;5;28mself\u001b[39m\u001b[38;5;241m.\u001b[39mlambdas[k]\u001b[38;5;241m*\u001b[39m(s\u001b[38;5;241m*\u001b[39ms)\n",
      "\u001b[0;31mValueError\u001b[0m: operands could not be broadcast together with shapes (10,) (7,) "
     ]
    }
   ],
   "source": [
    "algo = Algorithm(r)\n",
    "algo.fit(X, y)"
   ]
  },
  {
   "cell_type": "code",
   "execution_count": 143,
   "id": "bd30f183",
   "metadata": {
    "scrolled": false
   },
   "outputs": [],
   "source": [
    "# # Inicialization\n",
    "\n",
    "# U = np.concatenate([e(i, n).reshape(-1, 1) for i in range(r)], axis=-1).T # shape(n, r)\n",
    "\n",
    "# P = np.eye(r) # shape (r,r)\n",
    "# Q = np.eye(r) # shape (r, r)\n",
    "# lambdas = np.ones(r) # shape (r)\n",
    "# W = X.T @ np.concatenate([e(i, n).reshape(-1, 1) for i in range(r)], axis=-1) # shape (N, r)\n",
    "# t = np.array([X[:, p].T @ U.T @ P @ U @ X[:, p] for p in range(N)])"
   ]
  },
  {
   "cell_type": "code",
   "execution_count": 147,
   "id": "9cabebca",
   "metadata": {},
   "outputs": [],
   "source": [
    "# def v_hat(k):\n",
    "#     return (2*lambdas[k]/N)*(X @ ((y-t)*W[:, k]) - UQ @ (W.T @ ((y-t)*W[:, k])))"
   ]
  },
  {
   "cell_type": "code",
   "execution_count": 148,
   "id": "0c59688e",
   "metadata": {},
   "outputs": [],
   "source": [
    "# def v(k):\n",
    "#     v_hat = v_hat(k)\n",
    "    \n",
    "#     return v_hat/np.linalg.norm(v_hat)**2"
   ]
  },
  {
   "cell_type": "code",
   "execution_count": 149,
   "id": "b85c5023",
   "metadata": {},
   "outputs": [],
   "source": [
    "# def U_plus(gamma, v, k):\n",
    "#     return U.T + ((np.cos(gamma)-1)*U.T @ Q[:, k] + np.sin(gamma)*v).reshape(-1, 1) @ Q[:, k].reshape(1, -1)"
   ]
  },
  {
   "cell_type": "code",
   "execution_count": 150,
   "id": "fd244bfd",
   "metadata": {},
   "outputs": [],
   "source": [
    "# def h(gamma, k):\n",
    "    \n",
    "#     v_hat = (2*lambdas[k]/N)*(X @ ((y-t)*W[:, k]) - U.T @ Q @ (W.T @ ((y-t)*W[:, k])))\n",
    "            \n",
    "#     v = v_hat/np.linalg.norm(v_hat)**2\n",
    "#     z = X.T @ v\n",
    "#     s = (np.cos(gamma)-1)*W[:, k] + np.sin(gamma)*z\n",
    "#     return (1/(2*N)) * np.linalg.norm(y-t-2*lambdas[k]*s - lambdas[k]*(s*s), ord=2)**2"
   ]
  },
  {
   "cell_type": "code",
   "execution_count": 151,
   "id": "4ab1f508",
   "metadata": {},
   "outputs": [],
   "source": [
    "# def find_optimal_gamma(k):\n",
    "#     num_points = 1000\n",
    "#     x_values = np.linspace(0, 2*np.pi, num_points)\n",
    "#     y_values = [h(x, k) for x in x_values]\n",
    "\n",
    "#     # Find the x value that minimizes the objective function\n",
    "#     optimal_x = x_values[np.argmin(y_values)]\n",
    "#     optimal_y = np.min(y_values)\n",
    "    \n",
    "#     return optimal_x"
   ]
  },
  {
   "cell_type": "code",
   "execution_count": 152,
   "id": "8a98ac75",
   "metadata": {
    "collapsed": true
   },
   "outputs": [
    {
     "name": "stdout",
     "output_type": "stream",
     "text": [
      "(10,)\n"
     ]
    },
    {
     "name": "stderr",
     "output_type": "stream",
     "text": [
      "/var/folders/7x/w344fx1j18q71m51_grbtgjc0000gn/T/ipykernel_61837/1935296653.py:9: RuntimeWarning: invalid value encountered in divide\n",
      "  v = v_hat/np.linalg.norm(v_hat)**2\n",
      "/var/folders/7x/w344fx1j18q71m51_grbtgjc0000gn/T/ipykernel_61837/1223925686.py:5: RuntimeWarning: invalid value encountered in divide\n",
      "  v = v_hat/np.linalg.norm(v_hat)**2\n"
     ]
    },
    {
     "ename": "ValueError",
     "evalue": "matmul: Input operand 1 has a mismatch in its core dimension 0, with gufunc signature (n?,k),(k,m?)->(n?,m?) (size 4 is different from 7)",
     "output_type": "error",
     "traceback": [
      "\u001b[0;31m---------------------------------------------------------------------------\u001b[0m",
      "\u001b[0;31mValueError\u001b[0m                                Traceback (most recent call last)",
      "Cell \u001b[0;32mIn[152], line 24\u001b[0m\n\u001b[1;32m     20\u001b[0m             \u001b[38;5;28mprint\u001b[39m(W[:, k]\u001b[38;5;241m.\u001b[39mshape) \u001b[38;5;66;03m# shape N\u001b[39;00m\n\u001b[1;32m     22\u001b[0m             s \u001b[38;5;241m=\u001b[39m (np\u001b[38;5;241m.\u001b[39mcos(optimal_gamma)\u001b[38;5;241m-\u001b[39m\u001b[38;5;241m1\u001b[39m)\u001b[38;5;241m*\u001b[39mW[:, k] \u001b[38;5;241m+\u001b[39m np\u001b[38;5;241m.\u001b[39msin(optimal_gamma)\u001b[38;5;241m*\u001b[39mz\n\u001b[0;32m---> 24\u001b[0m             W[:, k] \u001b[38;5;241m=\u001b[39m X\u001b[38;5;241m.\u001b[39mT \u001b[38;5;241m@\u001b[39m (s \u001b[38;5;241m+\u001b[39m \u001b[43mU\u001b[49m\u001b[38;5;241;43m.\u001b[39;49m\u001b[43mT\u001b[49m\u001b[43m \u001b[49m\u001b[38;5;241;43m@\u001b[39;49m\u001b[43m \u001b[49m\u001b[43mQ\u001b[49m\u001b[43m[\u001b[49m\u001b[43m:\u001b[49m\u001b[43m,\u001b[49m\u001b[43m \u001b[49m\u001b[43mk\u001b[49m\u001b[43m]\u001b[49m) \u001b[38;5;66;03m# X.T shape = N, n\u001b[39;00m\n\u001b[1;32m     25\u001b[0m             t \u001b[38;5;241m=\u001b[39m t \u001b[38;5;241m+\u001b[39m \u001b[38;5;241m2\u001b[39m\u001b[38;5;241m*\u001b[39mlambdas[k]\u001b[38;5;241m*\u001b[39ms \u001b[38;5;241m+\u001b[39m lambdas[k]\u001b[38;5;241m*\u001b[39m(s\u001b[38;5;241m*\u001b[39ms)\n\u001b[1;32m     26\u001b[0m \u001b[38;5;66;03m#             UQ[:, k] += s\u001b[39;00m\n",
      "\u001b[0;31mValueError\u001b[0m: matmul: Input operand 1 has a mismatch in its core dimension 0, with gufunc signature (n?,k),(k,m?)->(n?,m?) (size 4 is different from 7)"
     ]
    }
   ],
   "source": [
    "# for t in range(num_iterations):\n",
    "#     for l in range(n):\n",
    "#         for k in range(r):\n",
    "            \n",
    "#             v_hat = (2*lambdas[k]/N)*(X @ ((y-t)*W[:, k]) - U.T @ Q @ (W.T @ ((y-t)*W[:, k])))\n",
    "            \n",
    "#             assert v_hat.shape == (n,)\n",
    "            \n",
    "#             v = v_hat/np.linalg.norm(v_hat)**2\n",
    "            \n",
    "#             z = X.T @ v\n",
    "            \n",
    "#             assert z.shape == (N,)\n",
    "            \n",
    "#             optimal_gamma = find_optimal_gamma(k)\n",
    "            \n",
    "#             U = U_plus(optimal_gamma, v, k)\n",
    "#             P = P\n",
    "            \n",
    "            \n",
    "            \n",
    "#             s = (np.cos(optimal_gamma)-1)*W[:, k] + np.sin(optimal_gamma)*z\n",
    "            \n",
    "#             W[:, k] = X.T @ (s + U.T @ Q[:, k]) # X.T shape = N, n\n",
    "#             t = t + 2*lambdas[k]*s + lambdas[k]*(s*s)\n",
    "# #             UQ[:, k] += s"
   ]
  },
  {
   "cell_type": "code",
   "execution_count": null,
   "id": "8b39fe27",
   "metadata": {},
   "outputs": [],
   "source": []
  }
 ],
 "metadata": {
  "kernelspec": {
   "display_name": "Python 3 (ipykernel)",
   "language": "python",
   "name": "python3"
  },
  "language_info": {
   "codemirror_mode": {
    "name": "ipython",
    "version": 3
   },
   "file_extension": ".py",
   "mimetype": "text/x-python",
   "name": "python",
   "nbconvert_exporter": "python",
   "pygments_lexer": "ipython3",
   "version": "3.11.5"
  },
  "toc": {
   "base_numbering": 1,
   "nav_menu": {},
   "number_sections": true,
   "sideBar": true,
   "skip_h1_title": false,
   "title_cell": "Table of Contents",
   "title_sidebar": "Contents",
   "toc_cell": false,
   "toc_position": {},
   "toc_section_display": true,
   "toc_window_display": false
  }
 },
 "nbformat": 4,
 "nbformat_minor": 5
}
