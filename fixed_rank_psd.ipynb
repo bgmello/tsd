{
 "cells": [
  {
   "cell_type": "code",
   "execution_count": 2,
   "id": "c0b8fa04",
   "metadata": {},
   "outputs": [],
   "source": [
    "import numpy as np\n",
    "from numpy.typing import NDArray"
   ]
  },
  {
   "cell_type": "code",
   "execution_count": 40,
   "id": "53e2e4d7",
   "metadata": {},
   "outputs": [],
   "source": [
    "n, N, r = 7, 10, 4\n",
    "num_iterations = 100"
   ]
  },
  {
   "cell_type": "code",
   "execution_count": 4,
   "id": "32763732",
   "metadata": {},
   "outputs": [],
   "source": [
    "def e(k, r):\n",
    "    if k > r:\n",
    "        raise ValueError(\"k should be less than or equal to r\")\n",
    "    \n",
    "    # Create a zero vector of size r\n",
    "    e_kr = np.zeros(r)\n",
    "    \n",
    "    # Set the k-th entry to 1\n",
    "    e_kr[k] = 1\n",
    "    \n",
    "    return e_kr"
   ]
  },
  {
   "cell_type": "code",
   "execution_count": null,
   "id": "e989cf95",
   "metadata": {},
   "outputs": [],
   "source": [
    "def h_k(gamma, N, y, t, lambdas, W, ):\n",
    "    return (1/(2*N))*np.linalg.norm(y, ord=2)"
   ]
  },
  {
   "cell_type": "code",
   "execution_count": 5,
   "id": "61d1ea47",
   "metadata": {},
   "outputs": [],
   "source": [
    "# Inputs\n",
    "X = np.random.random((n, N)) # shape (n, N)\n",
    "y = np.zeros(N) # shape (N)"
   ]
  },
  {
   "cell_type": "code",
   "execution_count": 32,
   "id": "bd30f183",
   "metadata": {},
   "outputs": [],
   "source": [
    "# Inicialization\n",
    "\n",
    "U = np.concatenate([e(i, n).reshape(-1, 1) for i in range(r)], axis=-1)\n",
    "\n",
    "P = np.eye(r) # shape (r,r)\n",
    "UQ = np.concatenate([e(i, n).reshape(-1, 1) for i in range(r)], axis=-1)\n",
    "lambdas = np.ones(r) # shape (r)\n",
    "W = X.T @ np.concatenate([e(i, n).reshape(-1, 1) for i in range(r)], axis=-1) # shape (N, r)\n",
    "t = [X[:, p].T @ U @ P @ U.T @ X[:, p] for p in range(N)]"
   ]
  },
  {
   "cell_type": "code",
   "execution_count": 33,
   "id": "b883f68a",
   "metadata": {},
   "outputs": [],
   "source": [
    "assert (np.all([np.isclose(t[p], np.sum(X[:, p][:r]**2)) for p in range(N)]))"
   ]
  },
  {
   "cell_type": "code",
   "execution_count": 34,
   "id": "9cabebca",
   "metadata": {},
   "outputs": [],
   "source": [
    "def v_hat(k):\n",
    "    return (2*lambdas[k]/N)*(X @ ((y-t)*W[:, k]) - UQ @ (W.T @ ((y-t)*W[:, k])))"
   ]
  },
  {
   "cell_type": "code",
   "execution_count": 35,
   "id": "0c59688e",
   "metadata": {},
   "outputs": [],
   "source": [
    "def v(k):\n",
    "    v_hat = v_hat(k)\n",
    "    \n",
    "    return v_hat/np.linalg.norm(v_hat)**2"
   ]
  },
  {
   "cell_type": "code",
   "execution_count": 47,
   "id": "b85c5023",
   "metadata": {},
   "outputs": [],
   "source": [
    "def U_plus(gamma, v, k):\n",
    "    return U + ((np.cos(gamma)-1)*UQ[:, k] + np.sin(gamma)*v)*UQ[:, k].T"
   ]
  },
  {
   "cell_type": "code",
   "execution_count": 43,
   "id": "fd244bfd",
   "metadata": {},
   "outputs": [],
   "source": [
    "def h(gamma, k):\n",
    "    \n",
    "    v_hat = (2*lambdas[k]/N)*(X @ ((y-t)*W[:, k]) - UQ @ (W.T @ ((y-t)*W[:, k])))\n",
    "            \n",
    "    v = v_hat/np.linalg.norm(v_hat)**2\n",
    "    z = X.T @ v\n",
    "    s = (np.cos(gamma)-1)*W[:, k] + np.sin(gamma)*z\n",
    "    return (1/(2*N)) * np.linalg.norm(y-t-2*lambdas[k]*s - lambdas[k]*(s*s), ord=2)**2"
   ]
  },
  {
   "cell_type": "code",
   "execution_count": 44,
   "id": "4ab1f508",
   "metadata": {},
   "outputs": [],
   "source": [
    "def find_optimal_gamma(k):\n",
    "    num_points = 1000\n",
    "    x_values = np.linspace(0, 2*np.pi, num_points)\n",
    "    y_values = [h(x, k) for x in x_values]\n",
    "\n",
    "    # Find the x value that minimizes the objective function\n",
    "    optimal_x = x_values[np.argmin(y_values)]\n",
    "    optimal_y = np.min(y_values)\n",
    "    \n",
    "    return optimal_x"
   ]
  },
  {
   "cell_type": "code",
   "execution_count": 48,
   "id": "8a98ac75",
   "metadata": {},
   "outputs": [
    {
     "name": "stderr",
     "output_type": "stream",
     "text": [
      "/var/folders/7x/w344fx1j18q71m51_grbtgjc0000gn/T/ipykernel_75373/1188394085.py:6: RuntimeWarning: invalid value encountered in divide\n",
      "  v = v_hat/np.linalg.norm(v_hat)**2\n",
      "/var/folders/7x/w344fx1j18q71m51_grbtgjc0000gn/T/ipykernel_75373/1574969654.py:5: RuntimeWarning: invalid value encountered in divide\n",
      "  v = v_hat/np.linalg.norm(v_hat)**2\n"
     ]
    },
    {
     "ename": "ValueError",
     "evalue": "operands could not be broadcast together with shapes (7,4) (7,) ",
     "output_type": "error",
     "traceback": [
      "\u001b[0;31m---------------------------------------------------------------------------\u001b[0m",
      "\u001b[0;31mValueError\u001b[0m                                Traceback (most recent call last)",
      "Cell \u001b[0;32mIn[48], line 12\u001b[0m\n\u001b[1;32m      8\u001b[0m z \u001b[38;5;241m=\u001b[39m X\u001b[38;5;241m.\u001b[39mT \u001b[38;5;241m@\u001b[39m v\n\u001b[1;32m     10\u001b[0m optimal_gamma \u001b[38;5;241m=\u001b[39m find_optimal_gamma(k)\n\u001b[0;32m---> 12\u001b[0m U \u001b[38;5;241m=\u001b[39m \u001b[43mU_plus\u001b[49m\u001b[43m(\u001b[49m\u001b[43moptimal_gamma\u001b[49m\u001b[43m,\u001b[49m\u001b[43m \u001b[49m\u001b[43mv\u001b[49m\u001b[43m,\u001b[49m\u001b[43m \u001b[49m\u001b[43mk\u001b[49m\u001b[43m)\u001b[49m\n\u001b[1;32m     13\u001b[0m P \u001b[38;5;241m=\u001b[39m P\n\u001b[1;32m     15\u001b[0m s \u001b[38;5;241m=\u001b[39m (np\u001b[38;5;241m.\u001b[39mcos(optimal_gamma)\u001b[38;5;241m-\u001b[39m\u001b[38;5;241m1\u001b[39m)\u001b[38;5;241m*\u001b[39mW[:, k] \u001b[38;5;241m+\u001b[39m np\u001b[38;5;241m.\u001b[39msin(optimal_gamma)\u001b[38;5;241m*\u001b[39mz\n",
      "Cell \u001b[0;32mIn[47], line 2\u001b[0m, in \u001b[0;36mU_plus\u001b[0;34m(gamma, v, k)\u001b[0m\n\u001b[1;32m      1\u001b[0m \u001b[38;5;28;01mdef\u001b[39;00m \u001b[38;5;21mU_plus\u001b[39m(gamma, v, k):\n\u001b[0;32m----> 2\u001b[0m     \u001b[38;5;28;01mreturn\u001b[39;00m \u001b[43mU\u001b[49m\u001b[43m \u001b[49m\u001b[38;5;241;43m+\u001b[39;49m\u001b[43m \u001b[49m\u001b[43m(\u001b[49m\u001b[43m(\u001b[49m\u001b[43mnp\u001b[49m\u001b[38;5;241;43m.\u001b[39;49m\u001b[43mcos\u001b[49m\u001b[43m(\u001b[49m\u001b[43mgamma\u001b[49m\u001b[43m)\u001b[49m\u001b[38;5;241;43m-\u001b[39;49m\u001b[38;5;241;43m1\u001b[39;49m\u001b[43m)\u001b[49m\u001b[38;5;241;43m*\u001b[39;49m\u001b[43mUQ\u001b[49m\u001b[43m[\u001b[49m\u001b[43m:\u001b[49m\u001b[43m,\u001b[49m\u001b[43m \u001b[49m\u001b[43mk\u001b[49m\u001b[43m]\u001b[49m\u001b[43m \u001b[49m\u001b[38;5;241;43m+\u001b[39;49m\u001b[43m \u001b[49m\u001b[43mnp\u001b[49m\u001b[38;5;241;43m.\u001b[39;49m\u001b[43msin\u001b[49m\u001b[43m(\u001b[49m\u001b[43mgamma\u001b[49m\u001b[43m)\u001b[49m\u001b[38;5;241;43m*\u001b[39;49m\u001b[43mv\u001b[49m\u001b[43m)\u001b[49m\u001b[38;5;241;43m*\u001b[39;49m\u001b[43mUQ\u001b[49m\u001b[43m[\u001b[49m\u001b[43m:\u001b[49m\u001b[43m,\u001b[49m\u001b[43m \u001b[49m\u001b[43mk\u001b[49m\u001b[43m]\u001b[49m\u001b[38;5;241;43m.\u001b[39;49m\u001b[43mT\u001b[49m\n",
      "\u001b[0;31mValueError\u001b[0m: operands could not be broadcast together with shapes (7,4) (7,) "
     ]
    }
   ],
   "source": [
    "for t in range(num_iterations):\n",
    "    for l in range(n):\n",
    "        for k in range(r):\n",
    "            v_hat = (2*lambdas[k]/N)*(X @ ((y-t)*W[:, k]) - U @ Q @ (W.T @ ((y-t)*W[:, k])))\n",
    "            \n",
    "            v = v_hat/np.linalg.norm(v_hat)**2\n",
    "            \n",
    "            z = X.T @ v\n",
    "            \n",
    "            optimal_gamma = find_optimal_gamma(k)\n",
    "            \n",
    "            U = U_plus(optimal_gamma, v, k)\n",
    "            P = P\n",
    "            \n",
    "            s = (np.cos(optimal_gamma)-1)*W[:, k] + np.sin(optimal_gamma)*z\n",
    "            \n",
    "            W[:, k] = X.T @ (s + UQ[:, k])\n",
    "            t = t + 2*lambdas[k]*s + lambdas[k]*(s*s)\n",
    "            UQ[:, k] += s"
   ]
  },
  {
   "cell_type": "code",
   "execution_count": null,
   "id": "8b39fe27",
   "metadata": {},
   "outputs": [],
   "source": []
  }
 ],
 "metadata": {
  "kernelspec": {
   "display_name": "Python 3 (ipykernel)",
   "language": "python",
   "name": "python3"
  },
  "language_info": {
   "codemirror_mode": {
    "name": "ipython",
    "version": 3
   },
   "file_extension": ".py",
   "mimetype": "text/x-python",
   "name": "python",
   "nbconvert_exporter": "python",
   "pygments_lexer": "ipython3",
   "version": "3.11.5"
  },
  "toc": {
   "base_numbering": 1,
   "nav_menu": {},
   "number_sections": true,
   "sideBar": true,
   "skip_h1_title": false,
   "title_cell": "Table of Contents",
   "title_sidebar": "Contents",
   "toc_cell": false,
   "toc_position": {},
   "toc_section_display": true,
   "toc_window_display": false
  }
 },
 "nbformat": 4,
 "nbformat_minor": 5
}
